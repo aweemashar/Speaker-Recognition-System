{
  "nbformat": 4,
  "nbformat_minor": 0,
  "metadata": {
    "colab": {
      "name": "Inputs_bhatti.ipynb",
      "provenance": [],
      "collapsed_sections": []
    },
    "kernelspec": {
      "name": "python3",
      "display_name": "Python 3"
    }
  },
  "cells": [
    {
      "cell_type": "code",
      "metadata": {
        "id": "coeJb4wNF4Rf",
        "colab_type": "code",
        "colab": {
          "base_uri": "https://localhost:8080/",
          "height": 128
        },
        "outputId": "744468ba-27f4-4c5b-a6ac-23a61b4d8341"
      },
      "source": [
        "from google.colab import drive\n",
        "drive.mount('/content/drive')"
      ],
      "execution_count": 2,
      "outputs": [
        {
          "output_type": "stream",
          "text": [
            "Go to this URL in a browser: https://accounts.google.com/o/oauth2/auth?client_id=947318989803-6bn6qk8qdgf4n4g3pfee6491hc0brc4i.apps.googleusercontent.com&redirect_uri=urn%3Aietf%3Awg%3Aoauth%3A2.0%3Aoob&scope=email%20https%3A%2F%2Fwww.googleapis.com%2Fauth%2Fdocs.test%20https%3A%2F%2Fwww.googleapis.com%2Fauth%2Fdrive%20https%3A%2F%2Fwww.googleapis.com%2Fauth%2Fdrive.photos.readonly%20https%3A%2F%2Fwww.googleapis.com%2Fauth%2Fpeopleapi.readonly&response_type=code\n",
            "\n",
            "Enter your authorization code:\n",
            "··········\n",
            "Mounted at /content/drive\n"
          ],
          "name": "stdout"
        }
      ]
    },
    {
      "cell_type": "code",
      "metadata": {
        "id": "99t7J2w8F3FY",
        "colab_type": "code",
        "outputId": "8323c420-ec14-4eea-c593-cfd0b3777b18",
        "colab": {
          "base_uri": "https://localhost:8080/",
          "height": 35
        }
      },
      "source": [
        "import pandas as pd\n",
        "import keras\n",
        "import keras.utils\n",
        "from keras import utils as np_utils\n",
        "from keras.layers import Activation,Dense,Dropout,Conv1D,Flatten,MaxPooling1D\n",
        "from sklearn.feature_extraction.text import CountVectorizer\n",
        "import numpy as np\n",
        "import tensorflow as tf\n",
        "from keras.models import Sequential\n",
        "from sklearn.metrics import accuracy_score\n",
        "import json\n",
        "import requests\n",
        "import random"
      ],
      "execution_count": 3,
      "outputs": [
        {
          "output_type": "stream",
          "text": [
            "Using TensorFlow backend.\n"
          ],
          "name": "stderr"
        }
      ]
    },
    {
      "cell_type": "code",
      "metadata": {
        "id": "HWWWs4uFGRJh",
        "colab_type": "code",
        "colab": {}
      },
      "source": [
        "Y_Test = pd.read_csv(\"/content/drive/My Drive/Classes Test.csv\")\n",
        "X_Test = pd.read_csv(\"/content/drive/My Drive/Data Test.csv\")\n",
        "Y_Train = pd.read_csv(\"/content/drive/My Drive/Classes Train.csv\")\n",
        "X_Train = pd.read_csv(\"/content/drive/My Drive/Data Train.csv\")"
      ],
      "execution_count": 0,
      "outputs": []
    },
    {
      "cell_type": "code",
      "metadata": {
        "id": "SW90FXJCGVJN",
        "colab_type": "code",
        "colab": {}
      },
      "source": [
        "X_Test = pd.DataFrame(X_Test).to_numpy()\n",
        "X_Train = pd.DataFrame(X_Train).to_numpy()"
      ],
      "execution_count": 0,
      "outputs": []
    },
    {
      "cell_type": "code",
      "metadata": {
        "id": "0FM2UASFGcJE",
        "colab_type": "code",
        "colab": {}
      },
      "source": [
        "classes_train_series = Y_Train[\"Name\"]\n",
        "classes_test_series = Y_Test[\"Name\"]"
      ],
      "execution_count": 0,
      "outputs": []
    },
    {
      "cell_type": "code",
      "metadata": {
        "id": "q0_wmR80Gj-H",
        "colab_type": "code",
        "colab": {}
      },
      "source": [
        "#numpy unique classes\n",
        "unique_classes_numpy = classes_train_series.unique()\n",
        "#list unique classes\n",
        "unique_classes_list = unique_classes_numpy.tolist()\n",
        "#Total no of classes into List\n",
        "train_classes_list = classes_train_series.to_list()"
      ],
      "execution_count": 0,
      "outputs": []
    },
    {
      "cell_type": "code",
      "metadata": {
        "id": "pHcO3iwOIF3d",
        "colab_type": "code",
        "colab": {}
      },
      "source": [
        ""
      ],
      "execution_count": 0,
      "outputs": []
    },
    {
      "cell_type": "code",
      "metadata": {
        "id": "7ozDmCzNGqAa",
        "colab_type": "code",
        "colab": {}
      },
      "source": [
        "def classes2bow():\n",
        "  vectorizer = CountVectorizer(binary=True)\n",
        "  vectorizer.fit(unique_classes_list)\n",
        "  return vectorizer"
      ],
      "execution_count": 0,
      "outputs": []
    },
    {
      "cell_type": "code",
      "metadata": {
        "id": "TlaO6Jt1HBTq",
        "colab_type": "code",
        "colab": {}
      },
      "source": [
        "def clean_input():\n",
        "  X_Training = []\n",
        "  Y_Training = []\n",
        "  input_data_numeric = []\n",
        "  vectorizer = classes2bow()\n",
        "  for x in range(0,len(X_Train)):\n",
        "    X_Training.append(X_Train[x])\n",
        "    label_numpy = vectorizer.transform([train_classes_list[x]]).toarray()[0]\n",
        "    label_list = label_numpy.tolist()\n",
        "    Y_Training.append(label_list)\n",
        "  X_Training = np.array(X_Training)  \n",
        "  Y_Training = np.array(Y_Training)\n",
        "  return X_Training , Y_Training, vectorizer"
      ],
      "execution_count": 0,
      "outputs": []
    },
    {
      "cell_type": "code",
      "metadata": {
        "id": "vBZGNayMHubh",
        "colab_type": "code",
        "colab": {}
      },
      "source": [
        "X_Training , Y_Training = clean_input()\n"
      ],
      "execution_count": 0,
      "outputs": []
    },
    {
      "cell_type": "code",
      "metadata": {
        "id": "ZSTyGhaTLt9M",
        "colab_type": "code",
        "outputId": "fc4f8394-df48-42ef-cc40-a69d7f3af0ff",
        "colab": {
          "base_uri": "https://localhost:8080/",
          "height": 35
        }
      },
      "source": [
        "len(Y_Training[0])"
      ],
      "execution_count": 11,
      "outputs": [
        {
          "output_type": "execute_result",
          "data": {
            "text/plain": [
              "22"
            ]
          },
          "metadata": {
            "tags": []
          },
          "execution_count": 11
        }
      ]
    },
    {
      "cell_type": "code",
      "metadata": {
        "id": "8Pya_QBVHurE",
        "colab_type": "code",
        "colab": {}
      },
      "source": [
        "def build_classifier():\n",
        "  model = Sequential()\n",
        "  model.add(Dense(units = 30,activation=\"relu\",kernel_initializer = \"uniform\",input_dim = len(X_Training[0]) ))\n",
        "  model.add(Dropout(rate=0.2))\n",
        "  model.add(Dense(units = 30, activation=\"relu\",kernel_initializer = \"uniform\"))\n",
        "  model.add(Dropout(rate=0.2))\n",
        "  model.add(Dense(units = len(Y_Training[0]),activation = \"softmax\" , kernel_initializer = \"uniform\"))\n",
        "  model.compile(optimizer = \"adam\" , loss=\"categorical_crossentropy\", metrics = ['accuracy'] )\n",
        "  return model"
      ],
      "execution_count": 0,
      "outputs": []
    },
    {
      "cell_type": "code",
      "metadata": {
        "id": "jOllIMRcIrHD",
        "colab_type": "code",
        "outputId": "3f8f4584-0d51-4eaa-c661-b7072687af52",
        "colab": {
          "base_uri": "https://localhost:8080/",
          "height": 1000
        }
      },
      "source": [
        "model = build_classifier()\n",
        "model.fit(X_Training,Y_Training ,batch_size=1,epochs=80)"
      ],
      "execution_count": 13,
      "outputs": [
        {
          "output_type": "stream",
          "text": [
            "WARNING:tensorflow:From /usr/local/lib/python3.6/dist-packages/keras/backend/tensorflow_backend.py:66: The name tf.get_default_graph is deprecated. Please use tf.compat.v1.get_default_graph instead.\n",
            "\n",
            "WARNING:tensorflow:From /usr/local/lib/python3.6/dist-packages/keras/backend/tensorflow_backend.py:541: The name tf.placeholder is deprecated. Please use tf.compat.v1.placeholder instead.\n",
            "\n",
            "WARNING:tensorflow:From /usr/local/lib/python3.6/dist-packages/keras/backend/tensorflow_backend.py:4432: The name tf.random_uniform is deprecated. Please use tf.random.uniform instead.\n",
            "\n",
            "WARNING:tensorflow:From /usr/local/lib/python3.6/dist-packages/keras/backend/tensorflow_backend.py:148: The name tf.placeholder_with_default is deprecated. Please use tf.compat.v1.placeholder_with_default instead.\n",
            "\n",
            "WARNING:tensorflow:From /usr/local/lib/python3.6/dist-packages/keras/backend/tensorflow_backend.py:3733: calling dropout (from tensorflow.python.ops.nn_ops) with keep_prob is deprecated and will be removed in a future version.\n",
            "Instructions for updating:\n",
            "Please use `rate` instead of `keep_prob`. Rate should be set to `rate = 1 - keep_prob`.\n",
            "WARNING:tensorflow:From /usr/local/lib/python3.6/dist-packages/keras/optimizers.py:793: The name tf.train.Optimizer is deprecated. Please use tf.compat.v1.train.Optimizer instead.\n",
            "\n",
            "WARNING:tensorflow:From /usr/local/lib/python3.6/dist-packages/keras/backend/tensorflow_backend.py:3576: The name tf.log is deprecated. Please use tf.math.log instead.\n",
            "\n",
            "WARNING:tensorflow:From /usr/local/lib/python3.6/dist-packages/tensorflow_core/python/ops/math_grad.py:1424: where (from tensorflow.python.ops.array_ops) is deprecated and will be removed in a future version.\n",
            "Instructions for updating:\n",
            "Use tf.where in 2.0, which has the same broadcast rule as np.where\n",
            "WARNING:tensorflow:From /usr/local/lib/python3.6/dist-packages/keras/backend/tensorflow_backend.py:1033: The name tf.assign_add is deprecated. Please use tf.compat.v1.assign_add instead.\n",
            "\n",
            "WARNING:tensorflow:From /usr/local/lib/python3.6/dist-packages/keras/backend/tensorflow_backend.py:1020: The name tf.assign is deprecated. Please use tf.compat.v1.assign instead.\n",
            "\n",
            "WARNING:tensorflow:From /usr/local/lib/python3.6/dist-packages/keras/backend/tensorflow_backend.py:3005: The name tf.Session is deprecated. Please use tf.compat.v1.Session instead.\n",
            "\n",
            "Epoch 1/80\n",
            "WARNING:tensorflow:From /usr/local/lib/python3.6/dist-packages/keras/backend/tensorflow_backend.py:190: The name tf.get_default_session is deprecated. Please use tf.compat.v1.get_default_session instead.\n",
            "\n",
            "WARNING:tensorflow:From /usr/local/lib/python3.6/dist-packages/keras/backend/tensorflow_backend.py:197: The name tf.ConfigProto is deprecated. Please use tf.compat.v1.ConfigProto instead.\n",
            "\n",
            "WARNING:tensorflow:From /usr/local/lib/python3.6/dist-packages/keras/backend/tensorflow_backend.py:207: The name tf.global_variables is deprecated. Please use tf.compat.v1.global_variables instead.\n",
            "\n",
            "WARNING:tensorflow:From /usr/local/lib/python3.6/dist-packages/keras/backend/tensorflow_backend.py:216: The name tf.is_variable_initialized is deprecated. Please use tf.compat.v1.is_variable_initialized instead.\n",
            "\n",
            "WARNING:tensorflow:From /usr/local/lib/python3.6/dist-packages/keras/backend/tensorflow_backend.py:223: The name tf.variables_initializer is deprecated. Please use tf.compat.v1.variables_initializer instead.\n",
            "\n",
            "60/60 [==============================] - 1s 15ms/step - loss: 3.1401 - acc: 0.0000e+00\n",
            "Epoch 2/80\n",
            "60/60 [==============================] - 0s 1ms/step - loss: 3.0814 - acc: 0.0333\n",
            "Epoch 3/80\n",
            "60/60 [==============================] - 0s 1ms/step - loss: 3.0599 - acc: 0.0500\n",
            "Epoch 4/80\n",
            "60/60 [==============================] - 0s 1ms/step - loss: 3.0531 - acc: 0.0833\n",
            "Epoch 5/80\n",
            "60/60 [==============================] - 0s 1ms/step - loss: 2.9597 - acc: 0.1000\n",
            "Epoch 6/80\n",
            "60/60 [==============================] - 0s 1ms/step - loss: 2.8380 - acc: 0.1333\n",
            "Epoch 7/80\n",
            "60/60 [==============================] - 0s 1ms/step - loss: 2.6893 - acc: 0.1667\n",
            "Epoch 8/80\n",
            "60/60 [==============================] - 0s 1ms/step - loss: 2.5371 - acc: 0.1833\n",
            "Epoch 9/80\n",
            "60/60 [==============================] - 0s 1ms/step - loss: 2.3259 - acc: 0.2333\n",
            "Epoch 10/80\n",
            "60/60 [==============================] - 0s 1ms/step - loss: 2.1820 - acc: 0.3000\n",
            "Epoch 11/80\n",
            "60/60 [==============================] - 0s 1ms/step - loss: 1.8575 - acc: 0.3667\n",
            "Epoch 12/80\n",
            "60/60 [==============================] - 0s 1ms/step - loss: 1.8890 - acc: 0.3167\n",
            "Epoch 13/80\n",
            "60/60 [==============================] - 0s 1ms/step - loss: 1.9782 - acc: 0.3833\n",
            "Epoch 14/80\n",
            "60/60 [==============================] - 0s 1ms/step - loss: 1.6062 - acc: 0.5167\n",
            "Epoch 15/80\n",
            "60/60 [==============================] - 0s 1ms/step - loss: 1.8404 - acc: 0.3833\n",
            "Epoch 16/80\n",
            "60/60 [==============================] - 0s 1ms/step - loss: 1.6637 - acc: 0.4500\n",
            "Epoch 17/80\n",
            "60/60 [==============================] - 0s 1ms/step - loss: 1.6734 - acc: 0.4000\n",
            "Epoch 18/80\n",
            "60/60 [==============================] - 0s 1ms/step - loss: 1.4957 - acc: 0.4667\n",
            "Epoch 19/80\n",
            "60/60 [==============================] - 0s 1ms/step - loss: 1.3360 - acc: 0.5000\n",
            "Epoch 20/80\n",
            "60/60 [==============================] - 0s 1ms/step - loss: 1.4515 - acc: 0.5167\n",
            "Epoch 21/80\n",
            "60/60 [==============================] - 0s 1ms/step - loss: 1.3577 - acc: 0.5000\n",
            "Epoch 22/80\n",
            "60/60 [==============================] - 0s 1ms/step - loss: 1.1954 - acc: 0.5833\n",
            "Epoch 23/80\n",
            "60/60 [==============================] - 0s 1ms/step - loss: 1.2651 - acc: 0.5000\n",
            "Epoch 24/80\n",
            "60/60 [==============================] - 0s 1ms/step - loss: 1.3413 - acc: 0.5667\n",
            "Epoch 25/80\n",
            "60/60 [==============================] - 0s 1ms/step - loss: 1.2379 - acc: 0.6333\n",
            "Epoch 26/80\n",
            "60/60 [==============================] - 0s 1ms/step - loss: 1.0355 - acc: 0.6667\n",
            "Epoch 27/80\n",
            "60/60 [==============================] - 0s 1ms/step - loss: 0.9110 - acc: 0.6833\n",
            "Epoch 28/80\n",
            "60/60 [==============================] - 0s 1ms/step - loss: 1.0795 - acc: 0.6500\n",
            "Epoch 29/80\n",
            "60/60 [==============================] - 0s 1ms/step - loss: 0.9465 - acc: 0.7333\n",
            "Epoch 30/80\n",
            "60/60 [==============================] - 0s 1ms/step - loss: 1.1847 - acc: 0.6000\n",
            "Epoch 31/80\n",
            "60/60 [==============================] - 0s 1ms/step - loss: 0.8314 - acc: 0.7667\n",
            "Epoch 32/80\n",
            "60/60 [==============================] - 0s 1ms/step - loss: 0.9658 - acc: 0.6333\n",
            "Epoch 33/80\n",
            "60/60 [==============================] - 0s 1ms/step - loss: 0.9382 - acc: 0.6833\n",
            "Epoch 34/80\n",
            "60/60 [==============================] - 0s 1ms/step - loss: 0.8775 - acc: 0.6667\n",
            "Epoch 35/80\n",
            "60/60 [==============================] - 0s 1ms/step - loss: 0.7901 - acc: 0.7667\n",
            "Epoch 36/80\n",
            "60/60 [==============================] - 0s 1ms/step - loss: 0.5974 - acc: 0.8000\n",
            "Epoch 37/80\n",
            "60/60 [==============================] - 0s 1ms/step - loss: 0.8181 - acc: 0.6667\n",
            "Epoch 38/80\n",
            "60/60 [==============================] - 0s 1ms/step - loss: 0.8424 - acc: 0.7167\n",
            "Epoch 39/80\n",
            "60/60 [==============================] - 0s 1ms/step - loss: 0.9190 - acc: 0.6333\n",
            "Epoch 40/80\n",
            "60/60 [==============================] - 0s 1ms/step - loss: 0.8056 - acc: 0.7167\n",
            "Epoch 41/80\n",
            "60/60 [==============================] - 0s 1ms/step - loss: 0.7645 - acc: 0.7500\n",
            "Epoch 42/80\n",
            "60/60 [==============================] - 0s 1ms/step - loss: 0.8238 - acc: 0.6833\n",
            "Epoch 43/80\n",
            "60/60 [==============================] - 0s 1ms/step - loss: 0.7190 - acc: 0.7167\n",
            "Epoch 44/80\n",
            "60/60 [==============================] - 0s 1ms/step - loss: 0.8095 - acc: 0.6667\n",
            "Epoch 45/80\n",
            "60/60 [==============================] - 0s 1ms/step - loss: 0.8071 - acc: 0.6833\n",
            "Epoch 46/80\n",
            "60/60 [==============================] - 0s 1ms/step - loss: 0.5834 - acc: 0.7667\n",
            "Epoch 47/80\n",
            "60/60 [==============================] - 0s 1ms/step - loss: 0.4674 - acc: 0.9000\n",
            "Epoch 48/80\n",
            "60/60 [==============================] - 0s 1ms/step - loss: 0.6742 - acc: 0.7667\n",
            "Epoch 49/80\n",
            "60/60 [==============================] - 0s 1ms/step - loss: 0.4726 - acc: 0.8500\n",
            "Epoch 50/80\n",
            "60/60 [==============================] - 0s 1ms/step - loss: 0.5630 - acc: 0.8167\n",
            "Epoch 51/80\n",
            "60/60 [==============================] - 0s 1ms/step - loss: 0.6330 - acc: 0.8000\n",
            "Epoch 52/80\n",
            "60/60 [==============================] - 0s 1ms/step - loss: 0.7191 - acc: 0.7667\n",
            "Epoch 53/80\n",
            "60/60 [==============================] - 0s 1ms/step - loss: 0.4572 - acc: 0.8500\n",
            "Epoch 54/80\n",
            "60/60 [==============================] - 0s 1ms/step - loss: 0.5052 - acc: 0.8167\n",
            "Epoch 55/80\n",
            "60/60 [==============================] - 0s 1ms/step - loss: 0.3443 - acc: 0.9000\n",
            "Epoch 56/80\n",
            "60/60 [==============================] - 0s 1ms/step - loss: 0.5077 - acc: 0.8167\n",
            "Epoch 57/80\n",
            "60/60 [==============================] - 0s 1ms/step - loss: 0.4754 - acc: 0.8667\n",
            "Epoch 58/80\n",
            "60/60 [==============================] - 0s 1ms/step - loss: 0.4297 - acc: 0.8833\n",
            "Epoch 59/80\n",
            "60/60 [==============================] - 0s 1ms/step - loss: 0.4695 - acc: 0.8333\n",
            "Epoch 60/80\n",
            "60/60 [==============================] - 0s 2ms/step - loss: 0.4912 - acc: 0.7833\n",
            "Epoch 61/80\n",
            "60/60 [==============================] - 0s 1ms/step - loss: 0.6180 - acc: 0.7667\n",
            "Epoch 62/80\n",
            "60/60 [==============================] - 0s 1ms/step - loss: 0.4031 - acc: 0.8667\n",
            "Epoch 63/80\n",
            "60/60 [==============================] - 0s 1ms/step - loss: 0.4828 - acc: 0.8000\n",
            "Epoch 64/80\n",
            "60/60 [==============================] - 0s 1ms/step - loss: 0.5834 - acc: 0.7833\n",
            "Epoch 65/80\n",
            "60/60 [==============================] - 0s 1ms/step - loss: 0.5708 - acc: 0.7833\n",
            "Epoch 66/80\n",
            "60/60 [==============================] - 0s 1ms/step - loss: 0.4084 - acc: 0.8167\n",
            "Epoch 67/80\n",
            "60/60 [==============================] - 0s 1ms/step - loss: 0.5820 - acc: 0.7333\n",
            "Epoch 68/80\n",
            "60/60 [==============================] - 0s 1ms/step - loss: 0.3906 - acc: 0.8833\n",
            "Epoch 69/80\n",
            "60/60 [==============================] - 0s 1ms/step - loss: 0.4528 - acc: 0.8333\n",
            "Epoch 70/80\n",
            "60/60 [==============================] - 0s 1ms/step - loss: 0.3612 - acc: 0.8833\n",
            "Epoch 71/80\n",
            "60/60 [==============================] - 0s 1ms/step - loss: 0.3334 - acc: 0.8833\n",
            "Epoch 72/80\n",
            "60/60 [==============================] - 0s 1ms/step - loss: 0.2772 - acc: 0.9000\n",
            "Epoch 73/80\n",
            "60/60 [==============================] - 0s 1ms/step - loss: 0.5418 - acc: 0.8333\n",
            "Epoch 74/80\n",
            "60/60 [==============================] - 0s 1ms/step - loss: 0.5865 - acc: 0.8167\n",
            "Epoch 75/80\n",
            "60/60 [==============================] - 0s 1ms/step - loss: 0.2999 - acc: 0.9000\n",
            "Epoch 76/80\n",
            "60/60 [==============================] - 0s 1ms/step - loss: 0.3142 - acc: 0.8500\n",
            "Epoch 77/80\n",
            "60/60 [==============================] - 0s 1ms/step - loss: 0.5036 - acc: 0.8167\n",
            "Epoch 78/80\n",
            "60/60 [==============================] - 0s 1ms/step - loss: 0.3130 - acc: 0.9000\n",
            "Epoch 79/80\n",
            "60/60 [==============================] - 0s 1ms/step - loss: 0.6156 - acc: 0.7333\n",
            "Epoch 80/80\n",
            "60/60 [==============================] - 0s 1ms/step - loss: 0.4720 - acc: 0.8333\n"
          ],
          "name": "stdout"
        },
        {
          "output_type": "execute_result",
          "data": {
            "text/plain": [
              "<keras.callbacks.History at 0x7f50efd17160>"
            ]
          },
          "metadata": {
            "tags": []
          },
          "execution_count": 13
        }
      ]
    },
    {
      "cell_type": "code",
      "metadata": {
        "id": "epVo3xUPKw3c",
        "colab_type": "code",
        "colab": {}
      },
      "source": [
        "def cleanExample(audio_file):\n",
        "  # missing audio to numeric conversion\n",
        "  example = audio_file\n",
        "  example = example.reshape(1,40)\n",
        "  return example"
      ],
      "execution_count": 0,
      "outputs": []
    },
    {
      "cell_type": "code",
      "metadata": {
        "id": "ejflyBkIL8fx",
        "colab_type": "code",
        "colab": {}
      },
      "source": [
        "def predictSpeaker(model,example):\n",
        "  results = model.predict(example)[0]\n",
        "  results = [[i,r] for i,r in enumerate(results) if r>0.25]\n",
        "  results.sort(key=lambda x: x[1], reverse=True)\n",
        "  return results\n",
        "  "
      ],
      "execution_count": 0,
      "outputs": []
    },
    {
      "cell_type": "code",
      "metadata": {
        "id": "Ae_a8E8iNTlE",
        "colab_type": "code",
        "colab": {}
      },
      "source": [
        "def numeric2class(vectorizer,model,example):\n",
        "  results = predictSpeaker(model,example)\n",
        "  for word , key in (vectorizer.vocabulary_).items():\n",
        "    if(results[0][0] == key):\n",
        "      return word\n",
        "  return \"NOT FOUND\"    "
      ],
      "execution_count": 0,
      "outputs": []
    },
    {
      "cell_type": "code",
      "metadata": {
        "id": "ybHzk3w7NVty",
        "colab_type": "code",
        "colab": {}
      },
      "source": [
        "audio_file = X_Training[34]\n",
        "example_input = cleanExample(audio_file)"
      ],
      "execution_count": 0,
      "outputs": []
    },
    {
      "cell_type": "code",
      "metadata": {
        "id": "Kc9QIC6sPr-R",
        "colab_type": "code",
        "colab": {}
      },
      "source": [
        "example_output = numeric2class(vectorizer,model,example_input)"
      ],
      "execution_count": 0,
      "outputs": []
    },
    {
      "cell_type": "code",
      "metadata": {
        "id": "p9POr6hDP5kf",
        "colab_type": "code",
        "outputId": "b0731ad2-7fea-4220-cf51-a96b5c219352",
        "colab": {
          "base_uri": "https://localhost:8080/",
          "height": 35
        }
      },
      "source": [
        "print(example_output)"
      ],
      "execution_count": 35,
      "outputs": [
        {
          "output_type": "stream",
          "text": [
            "mahirakhan\n"
          ],
          "name": "stdout"
        }
      ]
    },
    {
      "cell_type": "code",
      "metadata": {
        "id": "LsnYyDgTQDiK",
        "colab_type": "code",
        "colab": {}
      },
      "source": [
        ""
      ],
      "execution_count": 0,
      "outputs": []
    }
  ]
}