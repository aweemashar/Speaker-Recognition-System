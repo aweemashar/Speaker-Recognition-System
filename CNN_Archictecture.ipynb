{
  "nbformat": 4,
  "nbformat_minor": 0,
  "metadata": {
    "colab": {
      "name": "CNN_Archictecture.ipynb",
      "version": "0.3.2",
      "provenance": [],
      "collapsed_sections": [],
      "include_colab_link": true
    },
    "kernelspec": {
      "name": "python3",
      "display_name": "Python 3"
    },
    "accelerator": "GPU"
  },
  "cells": [
    {
      "cell_type": "markdown",
      "metadata": {
        "id": "view-in-github",
        "colab_type": "text"
      },
      "source": [
        "<a href=\"https://colab.research.google.com/github/UsamaMushtaq/FYP-2016-2020/blob/master/CNN_Archictecture.ipynb\" target=\"_parent\"><img src=\"https://colab.research.google.com/assets/colab-badge.svg\" alt=\"Open In Colab\"/></a>"
      ]
    },
    {
      "cell_type": "code",
      "metadata": {
        "id": "rVSlCT6aUadX",
        "colab_type": "code",
        "colab": {}
      },
      "source": [
        "import keras\n",
        "from keras.datasets import mnist\n",
        "from keras.models import Sequential\n",
        "from keras.layers import Dense, Dropout, Flatten\n",
        "from keras.layers import Conv2D, MaxPooling2D\n",
        "import numpy as np"
      ],
      "execution_count": 0,
      "outputs": []
    },
    {
      "cell_type": "code",
      "metadata": {
        "id": "yB7e4sRbXmYi",
        "colab_type": "code",
        "colab": {
          "base_uri": "https://localhost:8080/",
          "height": 102
        },
        "outputId": "c2332028-e2d9-4fb3-b411-2a0acd926d27"
      },
      "source": [
        "batch_size = 128\n",
        "num_classes = 10\n",
        "epochs = 12\n",
        "\n",
        "\n",
        "img_rows, img_cols = 28, 28\n",
        "\n",
        "\n",
        "(x_train, y_train), (x_test, y_test) = mnist.load_data()\n",
        "\n",
        "x_train = x_train.reshape(60000,28,28,1)\n",
        "x_test = x_test.reshape(10000,28,28,1)\n",
        "\n",
        "print('x_train shape:', x_train.shape)\n",
        "print(x_train.shape[0], 'train samples')\n",
        "print(x_test.shape[0], 'test samples')\n",
        "\n",
        "# convert class vectors to binary class matrices\n",
        "y_train = keras.utils.to_categorical(y_train, num_classes)\n",
        "y_test = keras.utils.to_categorical(y_test, num_classes)"
      ],
      "execution_count": 3,
      "outputs": [
        {
          "output_type": "stream",
          "text": [
            "Downloading data from https://s3.amazonaws.com/img-datasets/mnist.npz\n",
            "11493376/11490434 [==============================] - 8s 1us/step\n",
            "x_train shape: (60000, 28, 28, 1)\n",
            "60000 train samples\n",
            "10000 test samples\n"
          ],
          "name": "stdout"
        }
      ]
    },
    {
      "cell_type": "code",
      "metadata": {
        "id": "P5bvr59fez5n",
        "colab_type": "code",
        "colab": {}
      },
      "source": [
        "model = Sequential()\n",
        "model.add(Conv2D(32, kernel_size=(3, 3),\n",
        "                 activation='relu',\n",
        "                 input_shape=(28,28,1)))\n",
        "model.add(Conv2D(64, (3, 3), activation='relu'))\n",
        "model.add(MaxPooling2D(pool_size=(2, 2)))\n",
        "model.add(Dropout(0.25))\n",
        "model.add(Flatten())\n",
        "model.add(Dense(128, activation='relu'))\n",
        "model.add(Dropout(0.5))\n",
        "model.add(Dense(num_classes, activation='softmax'))"
      ],
      "execution_count": 0,
      "outputs": []
    },
    {
      "cell_type": "code",
      "metadata": {
        "id": "EfYXfxGffOL0",
        "colab_type": "code",
        "colab": {
          "base_uri": "https://localhost:8080/",
          "height": 547
        },
        "outputId": "471e236d-f9e7-495c-ff31-5f45f35a2a16"
      },
      "source": [
        "model.compile(loss=keras.losses.categorical_crossentropy,\n",
        "              optimizer=keras.optimizers.Adadelta(),\n",
        "              metrics=['accuracy'])\n",
        "\n",
        "model.fit(x_train, y_train,\n",
        "          batch_size=batch_size,\n",
        "          epochs=epochs,\n",
        "          verbose=1,\n",
        "          validation_data=(x_test, y_test))\n",
        "score = model.evaluate(x_test, y_test, verbose=0)\n",
        "print('Test loss:', score[0])\n",
        "print('Test accuracy:', score[1])"
      ],
      "execution_count": 6,
      "outputs": [
        {
          "output_type": "stream",
          "text": [
            "WARNING:tensorflow:From /usr/local/lib/python3.6/dist-packages/tensorflow/python/ops/math_ops.py:3066: to_int32 (from tensorflow.python.ops.math_ops) is deprecated and will be removed in a future version.\n",
            "Instructions for updating:\n",
            "Use tf.cast instead.\n",
            "Train on 60000 samples, validate on 10000 samples\n",
            "Epoch 1/12\n",
            "60000/60000 [==============================] - 10s 160us/step - loss: 1.6136 - acc: 0.8469 - val_loss: 0.0706 - val_acc: 0.9784\n",
            "Epoch 2/12\n",
            "60000/60000 [==============================] - 4s 73us/step - loss: 0.1140 - acc: 0.9671 - val_loss: 0.0471 - val_acc: 0.9854\n",
            "Epoch 3/12\n",
            "60000/60000 [==============================] - 4s 73us/step - loss: 0.0833 - acc: 0.9763 - val_loss: 0.0525 - val_acc: 0.9829\n",
            "Epoch 4/12\n",
            "60000/60000 [==============================] - 4s 72us/step - loss: 0.0681 - acc: 0.9809 - val_loss: 0.0407 - val_acc: 0.9870\n",
            "Epoch 5/12\n",
            "60000/60000 [==============================] - 4s 73us/step - loss: 0.0560 - acc: 0.9836 - val_loss: 0.0378 - val_acc: 0.9868\n",
            "Epoch 6/12\n",
            "60000/60000 [==============================] - 4s 73us/step - loss: 0.0504 - acc: 0.9853 - val_loss: 0.0376 - val_acc: 0.9879\n",
            "Epoch 7/12\n",
            "60000/60000 [==============================] - 4s 73us/step - loss: 0.0437 - acc: 0.9871 - val_loss: 0.0395 - val_acc: 0.9878\n",
            "Epoch 8/12\n",
            "60000/60000 [==============================] - 4s 73us/step - loss: 0.0405 - acc: 0.9884 - val_loss: 0.0376 - val_acc: 0.9890\n",
            "Epoch 9/12\n",
            "60000/60000 [==============================] - 4s 73us/step - loss: 0.0337 - acc: 0.9898 - val_loss: 0.0534 - val_acc: 0.9870\n",
            "Epoch 10/12\n",
            "60000/60000 [==============================] - 4s 73us/step - loss: 0.0324 - acc: 0.9903 - val_loss: 0.0408 - val_acc: 0.9887\n",
            "Epoch 11/12\n",
            "60000/60000 [==============================] - 4s 73us/step - loss: 0.0305 - acc: 0.9903 - val_loss: 0.0362 - val_acc: 0.9881\n",
            "Epoch 12/12\n",
            "60000/60000 [==============================] - 4s 73us/step - loss: 0.0288 - acc: 0.9911 - val_loss: 0.0391 - val_acc: 0.9887\n",
            "Test loss: 0.039132848552019185\n",
            "Test accuracy: 0.9887\n"
          ],
          "name": "stdout"
        }
      ]
    }
  ]
}